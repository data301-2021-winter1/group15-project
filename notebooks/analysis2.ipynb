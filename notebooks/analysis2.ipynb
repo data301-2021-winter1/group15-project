{
 "cells": [
  {
   "cell_type": "markdown",
   "source": [
    "# Remy Adams"
   ],
   "metadata": {}
  },
  {
   "cell_type": "markdown",
   "source": [
    "## Research question/interests\n",
    "\n",
    "My research question is do pressure changes vary seasonally? and what seasonal patterns will you find on Mars? I chose these questions because with my group we talked a lot about the potential for life to be sustained on Mars and a big factor in that would be temperature. Knowing that Earth has a fairly predictable seasonal pattern, I thought it would be interesting to see what patterns exist on Mars and if we could pinpoint a winter, spring, summer and fall. "
   ],
   "metadata": {}
  }
 ],
 "metadata": {
  "orig_nbformat": 4,
  "language_info": {
   "name": "plaintext"
  }
 },
 "nbformat": 4,
 "nbformat_minor": 2
}