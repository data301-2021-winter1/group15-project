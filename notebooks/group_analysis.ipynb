{
 "cells": [
  {
   "cell_type": "markdown",
   "id": "3f2f1a62-6b36-4604-bafe-cf8c5e4fb63f",
   "metadata": {},
   "source": [
    "# Task 4: Data Analysis "
   ]
  },
  {
   "cell_type": "code",
   "execution_count": 1,
   "id": "3501d3d6-dc47-407a-886b-adfa6f72ae42",
   "metadata": {},
   "outputs": [],
   "source": [
    "import pandas as pd\n",
    "import numpy as np\n",
    "import matplotlib.pylab as plt\n",
    "import seaborn as sns"
   ]
  },
  {
   "cell_type": "code",
   "execution_count": 2,
   "id": "43c47f5a-d5a0-49ec-8fef-9664849b0230",
   "metadata": {},
   "outputs": [
    {
     "data": {
      "text/html": [
       "<div>\n",
       "<style scoped>\n",
       "    .dataframe tbody tr th:only-of-type {\n",
       "        vertical-align: middle;\n",
       "    }\n",
       "\n",
       "    .dataframe tbody tr th {\n",
       "        vertical-align: top;\n",
       "    }\n",
       "\n",
       "    .dataframe thead th {\n",
       "        text-align: right;\n",
       "    }\n",
       "</style>\n",
       "<table border=\"1\" class=\"dataframe\">\n",
       "  <thead>\n",
       "    <tr style=\"text-align: right;\">\n",
       "      <th></th>\n",
       "      <th>id</th>\n",
       "      <th>terrestrial_date</th>\n",
       "      <th>sol</th>\n",
       "      <th>ls</th>\n",
       "      <th>month</th>\n",
       "      <th>min_temp</th>\n",
       "      <th>max_temp</th>\n",
       "      <th>pressure</th>\n",
       "      <th>wind_speed</th>\n",
       "      <th>atmo_opacity</th>\n",
       "    </tr>\n",
       "  </thead>\n",
       "  <tbody>\n",
       "    <tr>\n",
       "      <th>0</th>\n",
       "      <td>1895</td>\n",
       "      <td>2018-02-27</td>\n",
       "      <td>1977</td>\n",
       "      <td>135</td>\n",
       "      <td>Month 5</td>\n",
       "      <td>-77.0</td>\n",
       "      <td>-10.0</td>\n",
       "      <td>727.0</td>\n",
       "      <td>NaN</td>\n",
       "      <td>Sunny</td>\n",
       "    </tr>\n",
       "    <tr>\n",
       "      <th>1</th>\n",
       "      <td>1893</td>\n",
       "      <td>2018-02-26</td>\n",
       "      <td>1976</td>\n",
       "      <td>135</td>\n",
       "      <td>Month 5</td>\n",
       "      <td>-77.0</td>\n",
       "      <td>-10.0</td>\n",
       "      <td>728.0</td>\n",
       "      <td>NaN</td>\n",
       "      <td>Sunny</td>\n",
       "    </tr>\n",
       "    <tr>\n",
       "      <th>2</th>\n",
       "      <td>1894</td>\n",
       "      <td>2018-02-25</td>\n",
       "      <td>1975</td>\n",
       "      <td>134</td>\n",
       "      <td>Month 5</td>\n",
       "      <td>-76.0</td>\n",
       "      <td>-16.0</td>\n",
       "      <td>729.0</td>\n",
       "      <td>NaN</td>\n",
       "      <td>Sunny</td>\n",
       "    </tr>\n",
       "    <tr>\n",
       "      <th>3</th>\n",
       "      <td>1892</td>\n",
       "      <td>2018-02-24</td>\n",
       "      <td>1974</td>\n",
       "      <td>134</td>\n",
       "      <td>Month 5</td>\n",
       "      <td>-77.0</td>\n",
       "      <td>-13.0</td>\n",
       "      <td>729.0</td>\n",
       "      <td>NaN</td>\n",
       "      <td>Sunny</td>\n",
       "    </tr>\n",
       "    <tr>\n",
       "      <th>4</th>\n",
       "      <td>1889</td>\n",
       "      <td>2018-02-23</td>\n",
       "      <td>1973</td>\n",
       "      <td>133</td>\n",
       "      <td>Month 5</td>\n",
       "      <td>-78.0</td>\n",
       "      <td>-18.0</td>\n",
       "      <td>730.0</td>\n",
       "      <td>NaN</td>\n",
       "      <td>Sunny</td>\n",
       "    </tr>\n",
       "    <tr>\n",
       "      <th>...</th>\n",
       "      <td>...</td>\n",
       "      <td>...</td>\n",
       "      <td>...</td>\n",
       "      <td>...</td>\n",
       "      <td>...</td>\n",
       "      <td>...</td>\n",
       "      <td>...</td>\n",
       "      <td>...</td>\n",
       "      <td>...</td>\n",
       "      <td>...</td>\n",
       "    </tr>\n",
       "    <tr>\n",
       "      <th>1889</th>\n",
       "      <td>24</td>\n",
       "      <td>2012-08-18</td>\n",
       "      <td>12</td>\n",
       "      <td>156</td>\n",
       "      <td>Month 6</td>\n",
       "      <td>-76.0</td>\n",
       "      <td>-18.0</td>\n",
       "      <td>741.0</td>\n",
       "      <td>NaN</td>\n",
       "      <td>Sunny</td>\n",
       "    </tr>\n",
       "    <tr>\n",
       "      <th>1890</th>\n",
       "      <td>13</td>\n",
       "      <td>2012-08-17</td>\n",
       "      <td>11</td>\n",
       "      <td>156</td>\n",
       "      <td>Month 6</td>\n",
       "      <td>-76.0</td>\n",
       "      <td>-11.0</td>\n",
       "      <td>740.0</td>\n",
       "      <td>NaN</td>\n",
       "      <td>Sunny</td>\n",
       "    </tr>\n",
       "    <tr>\n",
       "      <th>1891</th>\n",
       "      <td>2</td>\n",
       "      <td>2012-08-16</td>\n",
       "      <td>10</td>\n",
       "      <td>155</td>\n",
       "      <td>Month 6</td>\n",
       "      <td>-75.0</td>\n",
       "      <td>-16.0</td>\n",
       "      <td>739.0</td>\n",
       "      <td>NaN</td>\n",
       "      <td>Sunny</td>\n",
       "    </tr>\n",
       "    <tr>\n",
       "      <th>1892</th>\n",
       "      <td>232</td>\n",
       "      <td>2012-08-15</td>\n",
       "      <td>9</td>\n",
       "      <td>155</td>\n",
       "      <td>Month 6</td>\n",
       "      <td>NaN</td>\n",
       "      <td>NaN</td>\n",
       "      <td>NaN</td>\n",
       "      <td>NaN</td>\n",
       "      <td>Sunny</td>\n",
       "    </tr>\n",
       "    <tr>\n",
       "      <th>1893</th>\n",
       "      <td>1</td>\n",
       "      <td>2012-08-07</td>\n",
       "      <td>1</td>\n",
       "      <td>150</td>\n",
       "      <td>Month 6</td>\n",
       "      <td>NaN</td>\n",
       "      <td>NaN</td>\n",
       "      <td>NaN</td>\n",
       "      <td>NaN</td>\n",
       "      <td>Sunny</td>\n",
       "    </tr>\n",
       "  </tbody>\n",
       "</table>\n",
       "<p>1894 rows × 10 columns</p>\n",
       "</div>"
      ],
      "text/plain": [
       "        id terrestrial_date   sol   ls    month  min_temp  max_temp  pressure  \\\n",
       "0     1895       2018-02-27  1977  135  Month 5     -77.0     -10.0     727.0   \n",
       "1     1893       2018-02-26  1976  135  Month 5     -77.0     -10.0     728.0   \n",
       "2     1894       2018-02-25  1975  134  Month 5     -76.0     -16.0     729.0   \n",
       "3     1892       2018-02-24  1974  134  Month 5     -77.0     -13.0     729.0   \n",
       "4     1889       2018-02-23  1973  133  Month 5     -78.0     -18.0     730.0   \n",
       "...    ...              ...   ...  ...      ...       ...       ...       ...   \n",
       "1889    24       2012-08-18    12  156  Month 6     -76.0     -18.0     741.0   \n",
       "1890    13       2012-08-17    11  156  Month 6     -76.0     -11.0     740.0   \n",
       "1891     2       2012-08-16    10  155  Month 6     -75.0     -16.0     739.0   \n",
       "1892   232       2012-08-15     9  155  Month 6       NaN       NaN       NaN   \n",
       "1893     1       2012-08-07     1  150  Month 6       NaN       NaN       NaN   \n",
       "\n",
       "      wind_speed atmo_opacity  \n",
       "0            NaN        Sunny  \n",
       "1            NaN        Sunny  \n",
       "2            NaN        Sunny  \n",
       "3            NaN        Sunny  \n",
       "4            NaN        Sunny  \n",
       "...          ...          ...  \n",
       "1889         NaN        Sunny  \n",
       "1890         NaN        Sunny  \n",
       "1891         NaN        Sunny  \n",
       "1892         NaN        Sunny  \n",
       "1893         NaN        Sunny  \n",
       "\n",
       "[1894 rows x 10 columns]"
      ]
     },
     "execution_count": 2,
     "metadata": {},
     "output_type": "execute_result"
    }
   ],
   "source": [
    "import project_functions3 as p3\n",
    "data = pd.read_csv('../data/raw/mars-weather.csv')\n",
    "dfu = p3.unprocessed(data)\n",
    "dfu"
   ]
  },
  {
   "cell_type": "code",
   "execution_count": 3,
   "id": "0df5995d-a261-48ac-8dfb-cb07384eebff",
   "metadata": {},
   "outputs": [
    {
     "data": {
      "text/html": [
       "<div>\n",
       "<style scoped>\n",
       "    .dataframe tbody tr th:only-of-type {\n",
       "        vertical-align: middle;\n",
       "    }\n",
       "\n",
       "    .dataframe tbody tr th {\n",
       "        vertical-align: top;\n",
       "    }\n",
       "\n",
       "    .dataframe thead th {\n",
       "        text-align: right;\n",
       "    }\n",
       "</style>\n",
       "<table border=\"1\" class=\"dataframe\">\n",
       "  <thead>\n",
       "    <tr style=\"text-align: right;\">\n",
       "      <th></th>\n",
       "      <th>earth_date</th>\n",
       "      <th>sol</th>\n",
       "      <th>ls</th>\n",
       "      <th>month</th>\n",
       "      <th>min_temp</th>\n",
       "      <th>max_temp</th>\n",
       "      <th>pressure</th>\n",
       "      <th>Season</th>\n",
       "    </tr>\n",
       "  </thead>\n",
       "  <tbody>\n",
       "    <tr>\n",
       "      <th>0</th>\n",
       "      <td>2018-02-27</td>\n",
       "      <td>1977</td>\n",
       "      <td>135</td>\n",
       "      <td>Month 5</td>\n",
       "      <td>-77.0</td>\n",
       "      <td>-10.0</td>\n",
       "      <td>727.0</td>\n",
       "      <td>Winter</td>\n",
       "    </tr>\n",
       "    <tr>\n",
       "      <th>1</th>\n",
       "      <td>2018-02-26</td>\n",
       "      <td>1976</td>\n",
       "      <td>135</td>\n",
       "      <td>Month 5</td>\n",
       "      <td>-77.0</td>\n",
       "      <td>-10.0</td>\n",
       "      <td>728.0</td>\n",
       "      <td>Winter</td>\n",
       "    </tr>\n",
       "    <tr>\n",
       "      <th>2</th>\n",
       "      <td>2018-02-25</td>\n",
       "      <td>1975</td>\n",
       "      <td>134</td>\n",
       "      <td>Month 5</td>\n",
       "      <td>-76.0</td>\n",
       "      <td>-16.0</td>\n",
       "      <td>729.0</td>\n",
       "      <td>Winter</td>\n",
       "    </tr>\n",
       "    <tr>\n",
       "      <th>3</th>\n",
       "      <td>2018-02-24</td>\n",
       "      <td>1974</td>\n",
       "      <td>134</td>\n",
       "      <td>Month 5</td>\n",
       "      <td>-77.0</td>\n",
       "      <td>-13.0</td>\n",
       "      <td>729.0</td>\n",
       "      <td>Winter</td>\n",
       "    </tr>\n",
       "    <tr>\n",
       "      <th>4</th>\n",
       "      <td>2018-02-23</td>\n",
       "      <td>1973</td>\n",
       "      <td>133</td>\n",
       "      <td>Month 5</td>\n",
       "      <td>-78.0</td>\n",
       "      <td>-18.0</td>\n",
       "      <td>730.0</td>\n",
       "      <td>Winter</td>\n",
       "    </tr>\n",
       "    <tr>\n",
       "      <th>...</th>\n",
       "      <td>...</td>\n",
       "      <td>...</td>\n",
       "      <td>...</td>\n",
       "      <td>...</td>\n",
       "      <td>...</td>\n",
       "      <td>...</td>\n",
       "      <td>...</td>\n",
       "      <td>...</td>\n",
       "    </tr>\n",
       "    <tr>\n",
       "      <th>1887</th>\n",
       "      <td>2012-08-20</td>\n",
       "      <td>14</td>\n",
       "      <td>157</td>\n",
       "      <td>Month 6</td>\n",
       "      <td>-74.0</td>\n",
       "      <td>-16.0</td>\n",
       "      <td>740.0</td>\n",
       "      <td>Winter</td>\n",
       "    </tr>\n",
       "    <tr>\n",
       "      <th>1888</th>\n",
       "      <td>2012-08-19</td>\n",
       "      <td>13</td>\n",
       "      <td>157</td>\n",
       "      <td>Month 6</td>\n",
       "      <td>-74.0</td>\n",
       "      <td>-15.0</td>\n",
       "      <td>732.0</td>\n",
       "      <td>Winter</td>\n",
       "    </tr>\n",
       "    <tr>\n",
       "      <th>1889</th>\n",
       "      <td>2012-08-18</td>\n",
       "      <td>12</td>\n",
       "      <td>156</td>\n",
       "      <td>Month 6</td>\n",
       "      <td>-76.0</td>\n",
       "      <td>-18.0</td>\n",
       "      <td>741.0</td>\n",
       "      <td>Winter</td>\n",
       "    </tr>\n",
       "    <tr>\n",
       "      <th>1890</th>\n",
       "      <td>2012-08-17</td>\n",
       "      <td>11</td>\n",
       "      <td>156</td>\n",
       "      <td>Month 6</td>\n",
       "      <td>-76.0</td>\n",
       "      <td>-11.0</td>\n",
       "      <td>740.0</td>\n",
       "      <td>Winter</td>\n",
       "    </tr>\n",
       "    <tr>\n",
       "      <th>1891</th>\n",
       "      <td>2012-08-16</td>\n",
       "      <td>10</td>\n",
       "      <td>155</td>\n",
       "      <td>Month 6</td>\n",
       "      <td>-75.0</td>\n",
       "      <td>-16.0</td>\n",
       "      <td>739.0</td>\n",
       "      <td>Winter</td>\n",
       "    </tr>\n",
       "  </tbody>\n",
       "</table>\n",
       "<p>1867 rows × 8 columns</p>\n",
       "</div>"
      ],
      "text/plain": [
       "      earth_date   sol   ls    month  min_temp  max_temp  pressure  Season\n",
       "0     2018-02-27  1977  135  Month 5     -77.0     -10.0     727.0  Winter\n",
       "1     2018-02-26  1976  135  Month 5     -77.0     -10.0     728.0  Winter\n",
       "2     2018-02-25  1975  134  Month 5     -76.0     -16.0     729.0  Winter\n",
       "3     2018-02-24  1974  134  Month 5     -77.0     -13.0     729.0  Winter\n",
       "4     2018-02-23  1973  133  Month 5     -78.0     -18.0     730.0  Winter\n",
       "...          ...   ...  ...      ...       ...       ...       ...     ...\n",
       "1887  2012-08-20    14  157  Month 6     -74.0     -16.0     740.0  Winter\n",
       "1888  2012-08-19    13  157  Month 6     -74.0     -15.0     732.0  Winter\n",
       "1889  2012-08-18    12  156  Month 6     -76.0     -18.0     741.0  Winter\n",
       "1890  2012-08-17    11  156  Month 6     -76.0     -11.0     740.0  Winter\n",
       "1891  2012-08-16    10  155  Month 6     -75.0     -16.0     739.0  Winter\n",
       "\n",
       "[1867 rows x 8 columns]"
      ]
     },
     "execution_count": 3,
     "metadata": {},
     "output_type": "execute_result"
    }
   ],
   "source": [
    "dfp = p3.load_and_process(data)\n",
    "dfp"
   ]
  },
  {
   "cell_type": "markdown",
   "id": "879693f6-2e9e-4c58-81b2-5e77af67c146",
   "metadata": {},
   "source": [
    "Here, we are using Malcolm's .py method chain to process the data, since we agreed it would be a good fit for all of us."
   ]
  },
  {
   "cell_type": "code",
   "execution_count": 4,
   "id": "9e0da2ca-c656-45b8-8c42-05c448d7eb28",
   "metadata": {},
   "outputs": [
    {
     "data": {
      "text/html": [
       "<div>\n",
       "<style scoped>\n",
       "    .dataframe tbody tr th:only-of-type {\n",
       "        vertical-align: middle;\n",
       "    }\n",
       "\n",
       "    .dataframe tbody tr th {\n",
       "        vertical-align: top;\n",
       "    }\n",
       "\n",
       "    .dataframe thead th {\n",
       "        text-align: right;\n",
       "    }\n",
       "</style>\n",
       "<table border=\"1\" class=\"dataframe\">\n",
       "  <thead>\n",
       "    <tr style=\"text-align: right;\">\n",
       "      <th></th>\n",
       "      <th>count</th>\n",
       "      <th>mean</th>\n",
       "      <th>std</th>\n",
       "      <th>min</th>\n",
       "      <th>25%</th>\n",
       "      <th>50%</th>\n",
       "      <th>75%</th>\n",
       "      <th>max</th>\n",
       "    </tr>\n",
       "  </thead>\n",
       "  <tbody>\n",
       "    <tr>\n",
       "      <th>sol</th>\n",
       "      <td>1867.0</td>\n",
       "      <td>1015.670059</td>\n",
       "      <td>565.342298</td>\n",
       "      <td>10.0</td>\n",
       "      <td>546.5</td>\n",
       "      <td>1028.0</td>\n",
       "      <td>1505.5</td>\n",
       "      <td>1977.0</td>\n",
       "    </tr>\n",
       "    <tr>\n",
       "      <th>ls</th>\n",
       "      <td>1867.0</td>\n",
       "      <td>168.865024</td>\n",
       "      <td>105.599153</td>\n",
       "      <td>0.0</td>\n",
       "      <td>78.0</td>\n",
       "      <td>160.0</td>\n",
       "      <td>257.5</td>\n",
       "      <td>359.0</td>\n",
       "    </tr>\n",
       "    <tr>\n",
       "      <th>min_temp</th>\n",
       "      <td>1867.0</td>\n",
       "      <td>-76.121050</td>\n",
       "      <td>5.504098</td>\n",
       "      <td>-90.0</td>\n",
       "      <td>-80.0</td>\n",
       "      <td>-76.0</td>\n",
       "      <td>-72.0</td>\n",
       "      <td>-62.0</td>\n",
       "    </tr>\n",
       "    <tr>\n",
       "      <th>max_temp</th>\n",
       "      <td>1867.0</td>\n",
       "      <td>-12.510445</td>\n",
       "      <td>10.699454</td>\n",
       "      <td>-35.0</td>\n",
       "      <td>-23.0</td>\n",
       "      <td>-11.0</td>\n",
       "      <td>-3.0</td>\n",
       "      <td>11.0</td>\n",
       "    </tr>\n",
       "    <tr>\n",
       "      <th>pressure</th>\n",
       "      <td>1867.0</td>\n",
       "      <td>841.066417</td>\n",
       "      <td>54.253226</td>\n",
       "      <td>727.0</td>\n",
       "      <td>800.0</td>\n",
       "      <td>853.0</td>\n",
       "      <td>883.0</td>\n",
       "      <td>925.0</td>\n",
       "    </tr>\n",
       "  </tbody>\n",
       "</table>\n",
       "</div>"
      ],
      "text/plain": [
       "           count         mean         std    min    25%     50%     75%  \\\n",
       "sol       1867.0  1015.670059  565.342298   10.0  546.5  1028.0  1505.5   \n",
       "ls        1867.0   168.865024  105.599153    0.0   78.0   160.0   257.5   \n",
       "min_temp  1867.0   -76.121050    5.504098  -90.0  -80.0   -76.0   -72.0   \n",
       "max_temp  1867.0   -12.510445   10.699454  -35.0  -23.0   -11.0    -3.0   \n",
       "pressure  1867.0   841.066417   54.253226  727.0  800.0   853.0   883.0   \n",
       "\n",
       "             max  \n",
       "sol       1977.0  \n",
       "ls         359.0  \n",
       "min_temp   -62.0  \n",
       "max_temp    11.0  \n",
       "pressure   925.0  "
      ]
     },
     "execution_count": 4,
     "metadata": {},
     "output_type": "execute_result"
    }
   ],
   "source": [
    "dfp.describe().T"
   ]
  },
  {
   "cell_type": "markdown",
   "id": "9833c946-ec71-408c-bd46-0ea087be7ac3",
   "metadata": {},
   "source": [
    "- The maximum temperature of max_temp is 11 degrees celsius. \n",
    "- The minimum temperature is of min_temp is -90 degree celsius! \n",
    "- It generally stays below zero on Mars as seen by the mean max_temp. "
   ]
  },
  {
   "cell_type": "code",
   "execution_count": 51,
   "id": "f6af0332-c56f-450d-9c33-19adafe6f657",
   "metadata": {},
   "outputs": [
    {
     "data": {
      "text/plain": [
       "Text(0.5, 1.0, 'Degree of correlation between Mars weather parameters')"
      ]
     },
     "execution_count": 51,
     "metadata": {},
     "output_type": "execute_result"
    },
    {
     "data": {
      "image/png": "[encoded data removed]",
      "text/plain": [
       "<Figure size 432x288 with 2 Axes>"
      ]
     },
     "metadata": {
      "needs_background": "light"
     },
     "output_type": "display_data"
    }
   ],
   "source": [
    "corr = dfp.corr()\n",
    "# Method of diagonalization from stack overflow: https://stackoverflow.com/questions/57414771/how-to-plot-only-the-lower-triangle-of-a-seaborn-heatmap/65455988#65455988\n",
    "matrix = np.triu(corr)\n",
    "col = ['Sols Elapsed','Solar Longitude','Min. Temp.','Max. Temp.','Pressure']\n",
    "x = col[:-1]\n",
    "x.append(\"\")\n",
    "y = col[1:]\n",
    "y.insert(0, \"\")\n",
    "sns.heatmap(corr, xticklabels=x, yticklabels=y, annot=True,\n",
    "            cmap=sns.diverging_palette(220, 20, as_cmap=True),\n",
    "            mask=matrix).tick_params(bottom=False, left=False)\n",
    "plt.title(\"Degree of correlation between Mars weather parameters\")"
   ]
  },
  {
   "cell_type": "markdown",
   "id": "baf6b7f9-c8e9-4ba0-ae44-549ba43b386e",
   "metadata": {},
   "source": [
    "We can see there is a positive correlation between ls (Solar Longitude) and the max and minimum temperatures. There is slight correlation with pressure as well. Solar longitude, or the 'Mars-sun angle,' determines the season on Mars."
   ]
  },
  {
   "cell_type": "markdown",
   "id": "e55234d8-3a68-4ec0-a9f0-99ec4363b43f",
   "metadata": {},
   "source": [
    "### Scatter plot"
   ]
  },
  {
   "cell_type": "code",
   "execution_count": 23,
   "id": "1570860f-69b7-4459-9bb0-5257a4626b97",
   "metadata": {},
   "outputs": [
    {
     "data": {
      "text/plain": [
       "Text(27.0, 0.5, 'Maximum Daily Temperature ($\\\\degree$C)')"
      ]
     },
     "execution_count": 23,
     "metadata": {},
     "output_type": "execute_result"
    },
    {
     "data": {
      "image/png": "[encoded data removed]",
      "text/plain": [
       "<Figure size 432x432 with 3 Axes>"
      ]
     },
     "metadata": {
      "needs_background": "light"
     },
     "output_type": "display_data"
    }
   ],
   "source": [
    "sp = sns.jointplot(kind = 'hex', x= 'ls', y='max_temp', data=dfp)\n",
    "sns.despine()\n",
    "plt.xlabel(\"Solar Longitude ($\\degree$)\")\n",
    "plt.ylabel(\"Maximum Daily Temperature ($\\degree$C)\")"
   ]
  },
  {
   "cell_type": "markdown",
   "id": "db1887d0-c5cc-458d-bdbd-f2f9dd1d879a",
   "metadata": {},
   "source": [
    "- 0 < ls < 90: Autumn \n",
    "- 90 < ls < 180: Winter\n",
    "- 180 < ls < 270: Spring\n",
    "- 270 < ls < 360: Summer\n",
    "\n",
    "We can see here that there are seasonal variations. \n",
    "Between 0 and 90, the temperature dips to its lowest point, and gradually increases to its hottest temperature of around 11 degrees at an ls of 250. These temperature variations follow a sinusoidal curve, which agrees with the seasonal trends we would expect to see."
   ]
  },
  {
   "cell_type": "markdown",
   "id": "399eda7b-9cd3-48cb-b4a0-159e53f60ea7",
   "metadata": {},
   "source": [
    "## Pair Plot\n",
    "\n",
    "The pair plot will show the relationships between all the columns in the processed dataframe. "
   ]
  },
  {
   "cell_type": "markdown",
   "id": "58a3c66a-138d-4448-9496-f5506b598e80",
   "metadata": {},
   "source": [
    "There are many similar trends in these different plots.\n",
    "- The graph of max_temp(y-value) and sol(x-value) is very similar to max_temp and ls, the difference being sol having greater amount of values but they still show the same trend of increasing and decreasing values of seasons. \n",
    "- The graph between ls(x-value)and pressure(y-value) shows the same trend as before, the different pressures in the context of ls shows the movement through the seasons. \n",
    "- Seasonal variations appear as sinusoidal or wave-like trends\n",
    "\n",
    "Taking a closer look at the ls vs max_temp plot,"
   ]
  },
  {
   "cell_type": "code",
   "execution_count": 17,
   "id": "58fa06c4-d851-45d4-b99e-da957616062d",
   "metadata": {},
   "outputs": [
    {
     "data": {
      "text/plain": [
       "<function seaborn.categorical.catplot(*, x=None, y=None, hue=None, data=None, row=None, col=None, col_wrap=None, estimator=<function mean at 0x000002695821B820>, ci=95, n_boot=1000, units=None, seed=None, order=None, hue_order=None, row_order=None, col_order=None, kind='strip', height=5, aspect=1, orient=None, color=None, palette=None, legend=True, legend_out=True, sharex=True, sharey=True, margin_titles=False, facet_kws=None, **kwargs)>"
      ]
     },
     "execution_count": 17,
     "metadata": {},
     "output_type": "execute_result"
    },
    {
     "data": {
      "image/png": "[encoded data removed]",
      "text/plain": [
       "<Figure size 360x360 with 1 Axes>"
      ]
     },
     "metadata": {
      "needs_background": "light"
     },
     "output_type": "display_data"
    }
   ],
   "source": [
    "#Switch to violin or ridgeplot, add figure labels\n",
    "sns.catplot(x=\"Season\",y=\"min_temp\",data = dfp,kind =\"bar\",color=\"tab:blue\")\n",
    "sns.catplot"
   ]
  },
  {
   "cell_type": "markdown",
   "id": "1bf5b0dd-e53d-41d4-91f5-b59a55c70f78",
   "metadata": {},
   "source": [
    "- Autumn has the coldest recorded temperature with winter being a close second. \n",
    "- Spring seems to stay a little warmer then summer overrall. "
   ]
  },
  {
   "cell_type": "markdown",
   "id": "eb76487d-38d7-44ca-889e-362d120912b6",
   "metadata": {},
   "source": [
    "# Conclusion"
   ]
  },
  {
   "cell_type": "markdown",
   "id": "3b22ea5b-c73e-4750-a71f-0d267e8d364d",
   "metadata": {},
   "source": [
    "Overall, we can see seasonal variations from the data provided. Using the solar longitude (ls) as a marker for the seasons we can see Mars moves through seasons similar to Earth, where the temperature drops when nearing autumn and winter and increases from spring to summer. However, it stays much colder on that planet then ours, and it is generally below zero (which makes it much less hospitable)."
   ]
  },
  {
   "cell_type": "code",
   "execution_count": null,
   "id": "d78a8a2b-6c11-44c6-8038-cdad39120d22",
   "metadata": {},
   "outputs": [],
   "source": []
  }
 ],
 "metadata": {
  "kernelspec": {
   "display_name": "Python 3 (ipykernel)",
   "language": "python",
   "name": "python3"
  },
  "language_info": {
   "codemirror_mode": {
    "name": "ipython",
    "version": 3
   },
   "file_extension": ".py",
   "mimetype": "text/x-python",
   "name": "python",
   "nbconvert_exporter": "python",
   "pygments_lexer": "ipython3",
   "version": "3.9.5"
  }
 },
 "nbformat": 4,
 "nbformat_minor": 5
}
